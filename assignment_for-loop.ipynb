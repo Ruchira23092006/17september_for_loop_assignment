{
 "cells": [
  {
   "cell_type": "code",
   "execution_count": 1,
   "id": "aad8d4dc-6f94-4088-ac19-19b3da65285a",
   "metadata": {},
   "outputs": [],
   "source": [
    "#1. Write a Python program to print the numbers from 1 to 10 using a `for` loop."
   ]
  },
  {
   "cell_type": "code",
   "execution_count": null,
   "id": "fbb8de18-1aa3-4033-82a2-bfc55dcc20b6",
   "metadata": {},
   "outputs": [],
   "source": []
  },
  {
   "cell_type": "code",
   "execution_count": null,
   "id": "6d1396d5-491d-4a5b-8f1d-af3a20d4cb48",
   "metadata": {},
   "outputs": [],
   "source": []
  },
  {
   "cell_type": "code",
   "execution_count": 1,
   "id": "77f7ffe7-1c54-4c5b-9a67-0c3ee8d53de0",
   "metadata": {},
   "outputs": [
    {
     "name": "stdout",
     "output_type": "stream",
     "text": [
      "1\n",
      "2\n",
      "3\n",
      "4\n",
      "5\n",
      "6\n",
      "7\n",
      "8\n",
      "9\n",
      "10\n"
     ]
    }
   ],
   "source": [
    "for i in range(1,11):\n",
    "    print(i)\n",
    "    \n",
    "    \n"
   ]
  },
  {
   "cell_type": "code",
   "execution_count": null,
   "id": "1be0e492-ac18-4a66-b021-b5f150929265",
   "metadata": {},
   "outputs": [],
   "source": [
    "#2. Create a program that calculates the sum of all numbers in a list using a `for` loop."
   ]
  },
  {
   "cell_type": "code",
   "execution_count": 11,
   "id": "7cda7c8f-2dcb-4e16-994e-db7aa5e21e92",
   "metadata": {},
   "outputs": [
    {
     "name": "stdout",
     "output_type": "stream",
     "text": [
      "1\n",
      "4\n",
      "9\n",
      "16\n",
      "25\n"
     ]
    }
   ],
   "source": [
    "a=[1,3,5,7,9]\n",
    "sum=0\n",
    "for i in range(0, len(a)):\n",
    "    sum=sum+a[i]\n",
    "    print(sum)    \n",
    "   \n",
    "\n"
   ]
  },
  {
   "cell_type": "code",
   "execution_count": null,
   "id": "c3311eef-2edb-4082-8d4e-251ed85b5197",
   "metadata": {},
   "outputs": [],
   "source": [
    "#3.Write a program to print the characters of a string in reverse order using a `for` loop."
   ]
  },
  {
   "cell_type": "code",
   "execution_count": 24,
   "id": "b66b6e3b-2132-41fe-b671-1c4d947b1967",
   "metadata": {},
   "outputs": [
    {
     "name": "stdout",
     "output_type": "stream",
     "text": [
      "arihcur\n"
     ]
    }
   ],
   "source": [
    "s=\"ruchira\"\n",
    "s1=\"\"\n",
    "for i in range(len(s)-1, -1, -1):\n",
    "    s1+=s[i]\n",
    "print(s1)\n"
   ]
  },
  {
   "cell_type": "code",
   "execution_count": null,
   "id": "b41beeaa-151c-42e9-bcee-3c93b589a710",
   "metadata": {},
   "outputs": [],
   "source": [
    "#4. Develop a program that finds the factorial of a given number using a `for` loop."
   ]
  },
  {
   "cell_type": "code",
   "execution_count": 2,
   "id": "47d476e1-f841-4486-be83-f110ab3d16da",
   "metadata": {},
   "outputs": [
    {
     "name": "stdin",
     "output_type": "stream",
     "text": [
      "Enter a number:  5\n"
     ]
    },
    {
     "name": "stdout",
     "output_type": "stream",
     "text": [
      "Factorial of the given number is:  120\n"
     ]
    }
   ],
   "source": [
    "n = int (input (\"Enter a number: \"))\n",
    "factorial = 1\n",
    "if n >= 1:\n",
    "    for i in range (1, n+1):\n",
    "        factorial=factorial *i\n",
    "print(\"Factorial of the given number is: \", factorial)"
   ]
  },
  {
   "cell_type": "code",
   "execution_count": null,
   "id": "351d27ee-8510-40ef-9598-2bbf7dead823",
   "metadata": {},
   "outputs": [],
   "source": [
    "#5. Create a program to print the multiplication table of a given number using a `for` loop."
   ]
  },
  {
   "cell_type": "code",
   "execution_count": 6,
   "id": "f4b2cc13-b594-4729-9b19-462fb129526b",
   "metadata": {},
   "outputs": [
    {
     "name": "stdin",
     "output_type": "stream",
     "text": [
      "enter a number 17\n"
     ]
    },
    {
     "name": "stdout",
     "output_type": "stream",
     "text": [
      "17 x 1 = 17\n",
      "17 x 2 = 34\n",
      "17 x 3 = 51\n",
      "17 x 4 = 68\n",
      "17 x 5 = 85\n",
      "17 x 6 = 102\n",
      "17 x 7 = 119\n",
      "17 x 8 = 136\n",
      "17 x 9 = 153\n",
      "17 x 10 = 170\n"
     ]
    }
   ],
   "source": [
    "n=int(input(\"enter a number\"))\n",
    "for i in range(1, 11):\n",
    "    print(n,\"x\",i,\"=\",n*i)"
   ]
  },
  {
   "cell_type": "code",
   "execution_count": null,
   "id": "a24eb8ae-e095-4bd1-9dad-085cfd214ee4",
   "metadata": {},
   "outputs": [],
   "source": [
    "# 6. Write a program that counts the number of even and odd numbers in a list using a `for` loop."
   ]
  },
  {
   "cell_type": "code",
   "execution_count": 12,
   "id": "993733f3-72b1-4319-a456-f7df5665d93c",
   "metadata": {},
   "outputs": [
    {
     "name": "stdout",
     "output_type": "stream",
     "text": [
      "4\n",
      "4\n"
     ]
    }
   ],
   "source": [
    "l1=[1,3,4,6,7,8,9,2]\n",
    "even=0\n",
    "odd=0\n",
    "for i in l1:\n",
    "    if (i%2==0):\n",
    "        even+=1\n",
    "    else:\n",
    "        odd+=1\n",
    "print(even)  \n",
    "print(odd)"
   ]
  },
  {
   "cell_type": "code",
   "execution_count": null,
   "id": "65d107c2-7c81-43c2-b99a-a8cb0fc551f3",
   "metadata": {},
   "outputs": [],
   "source": [
    "#7. Develop a program that prints the squares of numbers from 1 to 5 using a `for` loop."
   ]
  },
  {
   "cell_type": "code",
   "execution_count": 1,
   "id": "2cd7b72f-8e56-4045-990a-f0b2eaeac86a",
   "metadata": {},
   "outputs": [
    {
     "name": "stdout",
     "output_type": "stream",
     "text": [
      "1\n",
      "4\n",
      "9\n",
      "16\n",
      "25\n"
     ]
    }
   ],
   "source": [
    "for num in range(1,6):\n",
    "    square=num*num\n",
    "    print(square)"
   ]
  },
  {
   "cell_type": "code",
   "execution_count": null,
   "id": "24b79c44-cdcc-4c10-9e09-29e2049a1920",
   "metadata": {},
   "outputs": [],
   "source": [
    "#8. Create a program to find the length of a string without using the `len()` function."
   ]
  },
  {
   "cell_type": "code",
   "execution_count": 2,
   "id": "e6a36d38-8c38-4397-835e-0f175e277440",
   "metadata": {},
   "outputs": [
    {
     "name": "stdout",
     "output_type": "stream",
     "text": [
      "7\n"
     ]
    }
   ],
   "source": [
    "str=\"ruchira\"\n",
    "count=0\n",
    "for i in str:\n",
    "    count+=1\n",
    "print(count)   \n",
    "    \n",
    "    \n",
    "    \n"
   ]
  },
  {
   "cell_type": "code",
   "execution_count": null,
   "id": "efe1dcd0-c8b2-408c-b2a7-34393e76a0a5",
   "metadata": {},
   "outputs": [],
   "source": [
    "#9.Write a program that calculates the average of a list of numbers using a `for` loop. "
   ]
  },
  {
   "cell_type": "code",
   "execution_count": 5,
   "id": "40f61e54-9028-489d-a026-4ff060f750b2",
   "metadata": {},
   "outputs": [
    {
     "name": "stdout",
     "output_type": "stream",
     "text": [
      "4.857142857142857\n"
     ]
    }
   ],
   "source": [
    "l2=[1,3,4,5,6,7,8]\n",
    "sum=0\n",
    "n=len(l2)\n",
    "for i in range(0, len(l2)):\n",
    "    sum=sum+l2[i]\n",
    "average=sum/n\n",
    "print(average)\n",
    "    "
   ]
  },
  {
   "cell_type": "code",
   "execution_count": null,
   "id": "b10b38e7-24d7-40fa-87a0-0e31e7bed1ed",
   "metadata": {},
   "outputs": [],
   "source": [
    "#10. Develop a program that prints the first `n` Fibonacci numbers using a `for` loop."
   ]
  },
  {
   "cell_type": "code",
   "execution_count": 6,
   "id": "5b88feca-f38d-4957-b86a-c5b6182ebe80",
   "metadata": {},
   "outputs": [
    {
     "name": "stdout",
     "output_type": "stream",
     "text": [
      "0\n",
      "1\n",
      "1\n",
      "2\n",
      "3\n",
      "5\n",
      "8\n"
     ]
    }
   ],
   "source": [
    "n1,n2=0,1\n",
    "count=0\n",
    "for i in range(1,n-1):\n",
    "    while count < n:\n",
    "       print(n1)\n",
    "       nth = n1 + n2\n",
    "       # update values\n",
    "       n1 = n2\n",
    "       n2 = nth\n",
    "       count += 1\n",
    "       "
   ]
  },
  {
   "cell_type": "code",
   "execution_count": null,
   "id": "fcbdae1f-a232-477e-a2f8-4880c70f2363",
   "metadata": {},
   "outputs": [],
   "source": [
    "#11. Write a program to check if a given list contains any duplicates using a `for` loop."
   ]
  },
  {
   "cell_type": "code",
   "execution_count": 12,
   "id": "5fd4ea43-07b0-46b8-a6f7-3d39b8ac468a",
   "metadata": {},
   "outputs": [
    {
     "name": "stdout",
     "output_type": "stream",
     "text": [
      "false\n",
      "false\n",
      "false\n",
      "false\n",
      "true\n",
      "true\n",
      "true\n",
      "true\n",
      "true\n",
      "false\n",
      "false\n",
      "false\n",
      "false\n",
      "false\n"
     ]
    }
   ],
   "source": [
    "l3=[1,3,4,5,6,6,7,4,8,9]\n",
    "for i in range(1, len(l3)):  \n",
    "    for j in range(0, i):  \n",
    "        if l3[i] == l3[i-1]:  \n",
    "            print(\"true\")  \n",
    "    print(\"false\")  \n",
    "    "
   ]
  },
  {
   "cell_type": "code",
   "execution_count": null,
   "id": "f389a142-e0c6-40ab-a85a-6b737ed4b251",
   "metadata": {},
   "outputs": [],
   "source": [
    "#12. Create a program that prints the prime numbers in a given range using a `for` loop."
   ]
  },
  {
   "cell_type": "code",
   "execution_count": 13,
   "id": "f3ee334e-adf3-4b84-ac06-427f28c735de",
   "metadata": {},
   "outputs": [
    {
     "name": "stdout",
     "output_type": "stream",
     "text": [
      "prime number\n"
     ]
    }
   ],
   "source": [
    "if n <= 1:\n",
    "        print (\"false\")\n",
    "    # Loop through all numbers from 2 to\n",
    "    # the square root of n (rounded down to the nearest integer)\n",
    "for i in range(2, int(n**0.5)+1):\n",
    "        # If n is divisible by any of these numbers, return False\n",
    "        if n % i == 0:\n",
    "            print(\"not a prime number\")    \n",
    "        else:\n",
    "    # If n is not divisible by any of these numbers, return True\n",
    "            print(\"prime number\")"
   ]
  },
  {
   "cell_type": "code",
   "execution_count": null,
   "id": "186fd65d-7ea0-410b-8d75-c49f2ae8174d",
   "metadata": {},
   "outputs": [],
   "source": [
    "#13. Develop a program that counts the number of vowels in a string using a `for` loop."
   ]
  },
  {
   "cell_type": "code",
   "execution_count": 15,
   "id": "6d7af54d-316b-41fa-a69c-02c92cdb2389",
   "metadata": {},
   "outputs": [
    {
     "name": "stdout",
     "output_type": "stream",
     "text": [
      "5\n"
     ]
    }
   ],
   "source": [
    "s1=\"this is my india\"\n",
    "count=0\n",
    "for i in s1:\n",
    "   if (i=='a' or i=='e' or i=='i' or i=='o' or i=='u'):\n",
    "    count=count+1\n",
    "print(count)"
   ]
  },
  {
   "cell_type": "code",
   "execution_count": null,
   "id": "7a2dda90-4f84-4d8e-b536-5ae7cbb6e12d",
   "metadata": {},
   "outputs": [],
   "source": [
    "#14. Write a program to find the maximum element in a 2D list using a nested `for` loop."
   ]
  },
  {
   "cell_type": "code",
   "execution_count": 4,
   "id": "70037eb4-4daf-446a-b534-814e53382467",
   "metadata": {},
   "outputs": [
    {
     "name": "stdout",
     "output_type": "stream",
     "text": [
      "25\n"
     ]
    }
   ],
   "source": [
    "import sys\n",
    "N=4\n",
    "M=4\n",
    "mat = [[1, 2, 3, 4],\n",
    "           [25, 6, 7, 8],\n",
    "           [9, 10, 11, 12],\n",
    "           [13, 14, 15, 16]]\n",
    "maxElement = -sys.maxsize - 1\n",
    "for i in range(N):\n",
    "        for j in range(M):\n",
    "            if (mat[i][j] > maxElement):\n",
    "                maxElement = mat[i][j]\n",
    "print(maxElement)"
   ]
  },
  {
   "cell_type": "code",
   "execution_count": null,
   "id": "b33c4f2c-095e-45d6-a975-b3b4fddaeca2",
   "metadata": {},
   "outputs": [],
   "source": [
    "#15. Create a program that removes all occurrences of a specific element from a list using a `for` loop."
   ]
  },
  {
   "cell_type": "code",
   "execution_count": 9,
   "id": "810c0d6d-1b11-4740-a97d-d7cf5c872e70",
   "metadata": {},
   "outputs": [
    {
     "name": "stdout",
     "output_type": "stream",
     "text": [
      "[1, 3, 4, 5, 6, 7]\n"
     ]
    }
   ],
   "source": [
    "l11=[1,2,3,2,4,5,2,6,7]\n",
    "n=2\n",
    "for x in l11:\n",
    "    if x == n:\n",
    "        l11.remove(x)\n",
    "print(l11)    "
   ]
  },
  {
   "cell_type": "code",
   "execution_count": null,
   "id": "1678c2f9-3990-4e22-8a8d-d42fa9e1966a",
   "metadata": {},
   "outputs": [],
   "source": [
    "#16. Develop a program that generates a multiplication table for numbers from 1 to 5 using a nested `for` loop."
   ]
  },
  {
   "cell_type": "code",
   "execution_count": 11,
   "id": "214e9e74-c3d0-4b18-bce4-41d3ecd39419",
   "metadata": {},
   "outputs": [
    {
     "name": "stdout",
     "output_type": "stream",
     "text": [
      "1 x 1 = 1\n",
      "1 x 2 = 2\n",
      "1 x 3 = 3\n",
      "1 x 4 = 4\n",
      "1 x 5 = 5\n",
      "1 x 6 = 6\n",
      "1 x 7 = 7\n",
      "1 x 8 = 8\n",
      "1 x 9 = 9\n",
      "1 x 10 = 10\n",
      "2 x 1 = 2\n",
      "2 x 2 = 4\n",
      "2 x 3 = 6\n",
      "2 x 4 = 8\n",
      "2 x 5 = 10\n",
      "2 x 6 = 12\n",
      "2 x 7 = 14\n",
      "2 x 8 = 16\n",
      "2 x 9 = 18\n",
      "2 x 10 = 20\n",
      "3 x 1 = 3\n",
      "3 x 2 = 6\n",
      "3 x 3 = 9\n",
      "3 x 4 = 12\n",
      "3 x 5 = 15\n",
      "3 x 6 = 18\n",
      "3 x 7 = 21\n",
      "3 x 8 = 24\n",
      "3 x 9 = 27\n",
      "3 x 10 = 30\n",
      "4 x 1 = 4\n",
      "4 x 2 = 8\n",
      "4 x 3 = 12\n",
      "4 x 4 = 16\n",
      "4 x 5 = 20\n",
      "4 x 6 = 24\n",
      "4 x 7 = 28\n",
      "4 x 8 = 32\n",
      "4 x 9 = 36\n",
      "4 x 10 = 40\n",
      "5 x 1 = 5\n",
      "5 x 2 = 10\n",
      "5 x 3 = 15\n",
      "5 x 4 = 20\n",
      "5 x 5 = 25\n",
      "5 x 6 = 30\n",
      "5 x 7 = 35\n",
      "5 x 8 = 40\n",
      "5 x 9 = 45\n",
      "5 x 10 = 50\n"
     ]
    }
   ],
   "source": [
    "for n in range(1,6):\n",
    "    for i in range(1,11):\n",
    "        print(n,\"x\",i,\"=\",n*i)"
   ]
  },
  {
   "cell_type": "code",
   "execution_count": null,
   "id": "27ea2fbf-2bf4-4972-82b9-899b815a7f24",
   "metadata": {},
   "outputs": [],
   "source": [
    "#17. Write a program that converts a list of Fahrenheit temperatures to Celsius using a `for` loop."
   ]
  },
  {
   "cell_type": "code",
   "execution_count": 21,
   "id": "0f820808-5337-492f-821a-63e1ccc5265e",
   "metadata": {},
   "outputs": [
    {
     "name": "stdout",
     "output_type": "stream",
     "text": [
      "44.0\n",
      "34.49999999999999\n",
      "24.6\n",
      "76.33333333333333\n",
      "44.2\n"
     ]
    }
   ],
   "source": [
    "F_temp=[111.2,94.1,76.28,169.400,111.56]\n",
    "result_temp=[]\n",
    "C_temp=0\n",
    "for i in F_temp:\n",
    "    C_temp=((i-32)/1.8)\n",
    "    print(C_temp)\n",
    "    result_temp.append(C_temp)\n"
   ]
  },
  {
   "cell_type": "code",
   "execution_count": null,
   "id": "afa9078d-3b37-4ae6-8e57-2d1717d9a423",
   "metadata": {},
   "outputs": [],
   "source": [
    "#18. Create a program to print the common elements from two lists using a `for` loop."
   ]
  },
  {
   "cell_type": "code",
   "execution_count": 23,
   "id": "e700595a-a516-4226-87c9-6b0c674ae99d",
   "metadata": {},
   "outputs": [
    {
     "name": "stdout",
     "output_type": "stream",
     "text": [
      "[4, 67]\n"
     ]
    }
   ],
   "source": [
    "l1=[1,3,4,5,67,8,7,9]\n",
    "l2=[2,4,67,11,43,13,21]\n",
    "l3=[]\n",
    "for i in l1:\n",
    "    for j in l2:\n",
    "        if i==j:\n",
    "            l3.append(i)\n",
    "print(l3)          "
   ]
  },
  {
   "cell_type": "code",
   "execution_count": null,
   "id": "5d6ca9cc-b5b9-4b5f-b989-d1d395e0b1a9",
   "metadata": {},
   "outputs": [],
   "source": [
    "#19. Develop a program that prints the pattern of right-angled triangles using a `for` loop. Use ‘*’ to draw the pattern\n"
   ]
  },
  {
   "cell_type": "code",
   "execution_count": 24,
   "id": "906c6519-ca87-4fda-b8ec-970540c19b36",
   "metadata": {},
   "outputs": [
    {
     "name": "stdin",
     "output_type": "stream",
     "text": [
      "Enter Number: 6\n"
     ]
    },
    {
     "name": "stdout",
     "output_type": "stream",
     "text": [
      "*\n",
      "**\n",
      "***\n",
      "****\n",
      "*****\n",
      "******\n"
     ]
    }
   ],
   "source": [
    "num = int(input(\"Enter Number:\"))\n",
    "\n",
    "for i in range(0, num):\n",
    "    for j in range(0, i+1):\n",
    "        print(\"*\", end=\"\")\n",
    "    print()\n"
   ]
  },
  {
   "cell_type": "code",
   "execution_count": null,
   "id": "24d74f07-d5a9-43f5-9005-889ea81f3483",
   "metadata": {},
   "outputs": [],
   "source": [
    "#20. Write a program to find the greatest common divisor (GCD) of two numbers using a `for` loop."
   ]
  },
  {
   "cell_type": "code",
   "execution_count": 25,
   "id": "8d1d44cf-6a53-41d2-ad74-53107ae93bf9",
   "metadata": {},
   "outputs": [
    {
     "name": "stdout",
     "output_type": "stream",
     "text": [
      "GCD of 36 and 60 is 12\n"
     ]
    }
   ],
   "source": [
    "num1 = 36\n",
    "num2 = 60\n",
    "gcd = 1\n",
    " \n",
    "for i in range(1, min(num1, num2)):\n",
    "    if num1 % i == 0 and num2 % i == 0:\n",
    "        gcd = i\n",
    "print(\"GCD of\", num1, \"and\", num2, \"is\", gcd)"
   ]
  },
  {
   "cell_type": "code",
   "execution_count": null,
   "id": "9e76fc8d-e065-4700-8157-8492b9e94df5",
   "metadata": {},
   "outputs": [],
   "source": [
    "#21. Create a program that calculates the sum of the digits of numbers in a list using a list comprehension."
   ]
  },
  {
   "cell_type": "code",
   "execution_count": 8,
   "id": "32caa65f-d3ae-4774-a003-557d0257856e",
   "metadata": {},
   "outputs": [
    {
     "name": "stdout",
     "output_type": "stream",
     "text": [
      "SUM:  104\n"
     ]
    }
   ],
   "source": [
    "a=[1,3,4,5,67,8,7,9]\n",
    "#print(sum([i for i in a])):   \n",
    "print(\"SUM: \", sum([i for i in a]))  \n",
    "   \n"
   ]
  },
  {
   "cell_type": "code",
   "execution_count": null,
   "id": "b95762de-e722-4af6-9df5-3c34adfdd23b",
   "metadata": {},
   "outputs": [],
   "source": [
    "#22.Write a program to find the prime factors of a given number using a `for` loop and list comprehension."
   ]
  },
  {
   "cell_type": "code",
   "execution_count": 1,
   "id": "80b3d8e5-8c79-4eea-b858-39be597dee2c",
   "metadata": {},
   "outputs": [
    {
     "name": "stdout",
     "output_type": "stream",
     "text": [
      "[2, 3, 5, 7, 11, 13, 17, 19, 23, 29]\n"
     ]
    }
   ],
   "source": [
    "value = 30\n",
    "prime = [x for x in range(2, value) if all(x % y != 0 for y in range(2, x))]\n",
    "print(prime)"
   ]
  },
  {
   "cell_type": "code",
   "execution_count": null,
   "id": "36842f18-ce80-4770-bf8b-e0c261dd09cd",
   "metadata": {},
   "outputs": [],
   "source": [
    "#23.Develop a program that extracts unique elements from a list and stores them in a new list using a list comprehension"
   ]
  },
  {
   "cell_type": "code",
   "execution_count": 16,
   "id": "2813e3db-570e-4de5-b466-4bbef72d2e4d",
   "metadata": {},
   "outputs": [
    {
     "name": "stdout",
     "output_type": "stream",
     "text": [
      "[1, 2, 3, 4, 5, 6, 7, 8, 9]\n"
     ]
    }
   ],
   "source": [
    "l1=[1,2,3,4,3,5,6,5,7,7,8,9]\n",
    "l1_set=set(l1)\n",
    "unique_list=(list(l1_set))\n",
    "l2=[i for i in unique_list]\n",
    "print(l2)\n",
    "#for i in l1:\n",
    "#   if i not in l2:\n",
    "#      l2.append(i)\n",
    "\n",
    "#print(l3)\n",
    "#list_set = set(list1)\n",
    "    # convert the set to the list\n",
    " #   unique_list = (list(list_set))\n",
    "  #  for x in unique_list:\n",
    "   #     print x,\n",
    " \n",
    "       \n",
    "    "
   ]
  },
  {
   "cell_type": "code",
   "execution_count": null,
   "id": "0401d407-499d-4f6f-b0fb-e07e727c2e5a",
   "metadata": {},
   "outputs": [],
   "source": [
    "#24. Create a program that generates a list of all palindromic numbers up to a specified limit using a list comprehension\n"
   ]
  },
  {
   "cell_type": "code",
   "execution_count": 3,
   "id": "a45f6597-2484-4cc4-8e73-06f0982a0792",
   "metadata": {},
   "outputs": [
    {
     "name": "stdout",
     "output_type": "stream",
     "text": [
      "[['0', '1', '2', '3', '4', '5', '6', '7', '8', '9', '11', '22', '33', '44', '55', '66', '77', '88', '99']]\n"
     ]
    }
   ],
   "source": [
    "listt=[]\n",
    "\n",
    "#for i in list_a:\n",
    "       # if str(i) == str(i)[::-1]:\n",
    "           # print(i)\n",
    "#for num in range(0,100):\n",
    "#rev=str(num)[::-1]\n",
    "    #if str(num)==rev:\n",
    "        #listt.append(num)\n",
    "        #print(listt)\n",
    "        \n",
    "rev=[str(num)[::-1] for num in range(0,100) if str(num)==str(num)[::-1]]\n",
    "listt.append(rev)\n",
    "print(listt)\n",
    "    "
   ]
  },
  {
   "cell_type": "code",
   "execution_count": null,
   "id": "7e4262cf-5fd2-4840-b0cd-707a83725372",
   "metadata": {},
   "outputs": [],
   "source": [
    "# 25. Write a program to flatten a nested list using list comprehension."
   ]
  },
  {
   "cell_type": "code",
   "execution_count": 4,
   "id": "8349d10c-df7f-4ead-9b69-812a8ae95870",
   "metadata": {},
   "outputs": [
    {
     "name": "stdout",
     "output_type": "stream",
     "text": [
      "[1, 2, 3, 4, 5, 6, 7]\n"
     ]
    }
   ],
   "source": [
    "my_list = [[1], [2, 3], [4, 5, 6, 7]]\n",
    "\n",
    "flat_list = [num for sublist in my_list for num in sublist]\n",
    "print(flat_list)"
   ]
  },
  {
   "cell_type": "code",
   "execution_count": null,
   "id": "3726941a-1b80-42f0-a4a8-5c5102fa5195",
   "metadata": {},
   "outputs": [],
   "source": [
    "#26. Develop a program that computes the sum of even and odd numbers in a list separately using list comprehension in python\n"
   ]
  },
  {
   "cell_type": "code",
   "execution_count": 19,
   "id": "f57f778a-d0cd-49b9-aaf3-184fc641b98b",
   "metadata": {},
   "outputs": [
    {
     "name": "stdout",
     "output_type": "stream",
     "text": [
      "12\n",
      "61\n"
     ]
    }
   ],
   "source": [
    "my_list=[1,2,5,4,6,7,9,11,13,15]\n",
    "even=[i for i in my_list if i%2==0] \n",
    "total_even=sum(even)\n",
    "print(total_even)\n",
    "odd=[i for i in my_list if i%2!=0] \n",
    "total_odd=sum(odd)\n",
    "print(total_odd)\n"
   ]
  },
  {
   "cell_type": "code",
   "execution_count": null,
   "id": "68b62294-07f2-4e2e-868d-fdcaae37d5fd",
   "metadata": {},
   "outputs": [],
   "source": [
    "#27.Create a program that generates a list of squares of odd numbers between 1 and 10 using list comprehension"
   ]
  },
  {
   "cell_type": "code",
   "execution_count": 1,
   "id": "8caef6c5-a01f-404a-8c83-4ff4e838085d",
   "metadata": {},
   "outputs": [
    {
     "name": "stdout",
     "output_type": "stream",
     "text": [
      "[1, 9, 25, 49, 81]\n"
     ]
    }
   ],
   "source": [
    "\n",
    "squares = [x**2 for x in range(1, 11) if x%2!=0]\n",
    "print(squares)"
   ]
  },
  {
   "cell_type": "code",
   "execution_count": null,
   "id": "3750b4f5-873b-44ea-84dc-a041e7f1ab89",
   "metadata": {},
   "outputs": [],
   "source": [
    "#28. Write a program that combines two lists into a dictionary using list comprehension in python"
   ]
  },
  {
   "cell_type": "code",
   "execution_count": 2,
   "id": "bd1f131d-ed01-4c88-82ef-3b12dbb73be7",
   "metadata": {},
   "outputs": [
    {
     "name": "stdout",
     "output_type": "stream",
     "text": [
      "[{1: 54, 3: 65, 4: 34, 5: 23, 6: 12, 7: 90}]\n"
     ]
    }
   ],
   "source": [
    "list1=[1,3,4,5,6,7]\n",
    "list2=[54,65,34,23,12,90]\n",
    "\n",
    "\n",
    "d=[dict(zip(list1, list2))]\n",
    "print(d)"
   ]
  },
  {
   "cell_type": "code",
   "execution_count": null,
   "id": "4d578bdf-dbaf-42db-a8d1-c8d16f8082e2",
   "metadata": {},
   "outputs": [],
   "source": [
    "#29. Develop a program that extracts the vowels from a string and stores them in a list using list comprehension."
   ]
  },
  {
   "cell_type": "code",
   "execution_count": 10,
   "id": "92a400be-27de-4237-9b2b-1f15d5cceeca",
   "metadata": {},
   "outputs": [
    {
     "name": "stdout",
     "output_type": "stream",
     "text": [
      "['u', 'i', 'a']\n"
     ]
    }
   ],
   "source": [
    "l1=[]\n",
    "s=\"ruchira\"\n",
    "#for i in s:\n",
    " #   if i=='a' or i=='e' or i=='i' or i=='o' or i=='u':\n",
    "  #      l1.append(i)\n",
    "   #     print(l1)\n",
    "l1=[i for i in s if i=='a' or i=='e' or i=='i' or i=='o' or i=='u']\n",
    "print(l1)"
   ]
  },
  {
   "cell_type": "code",
   "execution_count": null,
   "id": "18e67a9c-400b-4a8e-bd12-6d0904236869",
   "metadata": {},
   "outputs": [],
   "source": [
    "#30. Create a program that removes all non-numeric characters from a list of strings using list comprehension."
   ]
  },
  {
   "cell_type": "code",
   "execution_count": 15,
   "id": "658d73e4-a94f-41a9-90c1-1d089e37bb86",
   "metadata": {},
   "outputs": [
    {
     "name": "stdout",
     "output_type": "stream",
     "text": [
      "123\n"
     ]
    }
   ],
   "source": [
    "import re\n",
    "\n",
    "my_str = 'bo_1bby_2_ha_3_dz.com'\n",
    "\n",
    "result = re.sub(r'[^0-9]', '', my_str)\n",
    "\n",
    "print(result)"
   ]
  },
  {
   "cell_type": "code",
   "execution_count": null,
   "id": "8d6e1435-869b-43de-af25-e18186461429",
   "metadata": {},
   "outputs": [],
   "source": [
    "#31. Write a program to generate a list of prime numbers using the Sieve of Eratosthenes algorithm and list\n"
   ]
  },
  {
   "cell_type": "code",
   "execution_count": null,
   "id": "0037beec-8fa2-47e0-86b7-618878534bdb",
   "metadata": {},
   "outputs": [],
   "source": [
    "#32. Create a program that generates a list of all Pythagorean triplets up to a specified limit using list comprehension in python"
   ]
  },
  {
   "cell_type": "code",
   "execution_count": 16,
   "id": "d40d9a60-dfd4-4c45-b092-b9d5df127e9f",
   "metadata": {},
   "outputs": [],
   "source": [
    "pthag = [(x,y,z) for x in range(1,30) for y in range(x,30) for z in range(y,30) if x**2 + y**2 == z**2]"
   ]
  },
  {
   "cell_type": "code",
   "execution_count": 17,
   "id": "b037c85b-ca24-4467-b59c-f0e8493c53c5",
   "metadata": {},
   "outputs": [
    {
     "name": "stdout",
     "output_type": "stream",
     "text": [
      "[(3, 4, 5), (5, 12, 13), (6, 8, 10), (7, 24, 25), (8, 15, 17), (9, 12, 15), (10, 24, 26), (12, 16, 20), (15, 20, 25), (20, 21, 29)]\n"
     ]
    }
   ],
   "source": [
    "print(pthag)"
   ]
  },
  {
   "cell_type": "code",
   "execution_count": null,
   "id": "de5054d4-0ee5-48c5-9a5c-fdb476e954b4",
   "metadata": {},
   "outputs": [],
   "source": [
    "#33. Develop a program that generates a list of all possible combinations of two lists using list comprehension."
   ]
  },
  {
   "cell_type": "code",
   "execution_count": 18,
   "id": "771b74b0-4872-4789-8a89-4960f472c692",
   "metadata": {},
   "outputs": [
    {
     "name": "stdout",
     "output_type": "stream",
     "text": [
      "[(0, 'a'), (0, 'b'), (1, 'a'), (1, 'b'), (2, 'a'), (2, 'b')]\n"
     ]
    }
   ],
   "source": [
    "l1=[(x, y) for x in [0, 1, 2] for y in [\"a\", \"b\"]]\n",
    "print(l1)"
   ]
  },
  {
   "cell_type": "code",
   "execution_count": null,
   "id": "3f5788b3-5e1a-45c4-954b-cfd70bfbd144",
   "metadata": {},
   "outputs": [],
   "source": [
    "#34. Write a program that calculates the mean, median, and mode of a list of numbers using list comprehension"
   ]
  },
  {
   "cell_type": "code",
   "execution_count": null,
   "id": "05f94915-6fe5-4250-8b1a-51130aa8e625",
   "metadata": {},
   "outputs": [],
   "source": [
    "#35. pascal's triangle"
   ]
  },
  {
   "cell_type": "code",
   "execution_count": 19,
   "id": "e933b157-d146-4e4e-8b6f-39de7f7c9c3a",
   "metadata": {},
   "outputs": [
    {
     "name": "stdout",
     "output_type": "stream",
     "text": [
      "     1\n",
      "    1 1\n",
      "   1 2 1\n",
      "  1 3 3 1\n",
      " 1 4 6 4 1\n"
     ]
    }
   ],
   "source": [
    " n = 5\n",
    " \n",
    "# iterarte upto n\n",
    "for i in range(n):\n",
    "    # adjust space\n",
    "    print(' '*(n-i), end='')\n",
    " \n",
    "    # compute power of 11\n",
    "    print(' '.join(map(str, str(11**i))))"
   ]
  },
  {
   "cell_type": "code",
   "execution_count": null,
   "id": "8dc54ec4-25cf-4a70-a752-79271f5d76f8",
   "metadata": {},
   "outputs": [],
   "source": [
    "#36. Develop a program that calculates the sum of the digits of a factorial of numbers from 1 to 5 using lis"
   ]
  },
  {
   "cell_type": "code",
   "execution_count": 20,
   "id": "b5f8a44c-288b-41a0-8fe5-d315f4ea378f",
   "metadata": {},
   "outputs": [
    {
     "name": "stdout",
     "output_type": "stream",
     "text": [
      "1\n",
      "3\n",
      "3\n"
     ]
    }
   ],
   "source": [
    "fact = 1\n",
    "for i in range(2, 6):\n",
    "    fact *= i\n",
    "    sum_of_digits = 0\n",
    "for digit in str(fact):\n",
    "    sum_of_digits += int(digit)\n",
    "    print(sum_of_digits)\n"
   ]
  },
  {
   "cell_type": "code",
   "execution_count": null,
   "id": "4e2bb438-cfb3-4fc0-be14-32b901e4bef3",
   "metadata": {},
   "outputs": [],
   "source": [
    "#37. Write a program that finds the longest word in a sentence using list comprehension."
   ]
  },
  {
   "cell_type": "code",
   "execution_count": 4,
   "id": "2866d73c-875b-46c8-b395-cfcb5022b0ef",
   "metadata": {},
   "outputs": [
    {
     "name": "stdout",
     "output_type": "stream",
     "text": [
      "['be', 'confident', 'and', 'be', 'yourself']\n",
      "confident\n"
     ]
    }
   ],
   "source": [
    "s = \"be confident and be yourself\"\n",
    " \n",
    "    # Split the string into words\n",
    "l = list(s.split(\" \"))\n",
    "print(l)\n",
    "l = sorted(l, key = len)\n",
    " \n",
    "    # Print last word\n",
    "print(l[-1])\n",
    " \n",
    "#print(max(s,key=len))\n",
    "\n",
    " "
   ]
  },
  {
   "cell_type": "code",
   "execution_count": null,
   "id": "c99b7e5d-8909-4ed8-ad30-6a35adb7c928",
   "metadata": {},
   "outputs": [],
   "source": [
    "#38. Create a program that filters a list of strings to include only those with more than three vowels using list comprehension\n"
   ]
  },
  {
   "cell_type": "code",
   "execution_count": 4,
   "id": "865965f5-cdcd-4339-83c1-a109e404b09e",
   "metadata": {},
   "outputs": [
    {
     "name": "stdout",
     "output_type": "stream",
     "text": [
      "three and more vowels word : tiruchirapalli\n"
     ]
    }
   ],
   "source": [
    "lis=[\"ruchira\",\"bhavya\",\"shaurya\",\"prashant\",\"tiruchirapalli\"]\n",
    "\n",
    "res = \"\"\n",
    "\n",
    " \n",
    "for i in lis:\n",
    " \n",
    "    # Getting maximum length and element iteratively\n",
    "    vow_len = len([el for el in i if el in ['a', 'e', 'o', 'u', 'i']])\n",
    "     \n",
    "    if vow_len > 3:\n",
    "        res = i\n",
    "print(\"three and more vowels word : \" + str(res)) \n",
    "\n",
    "   # print(lis)\n",
    "  \n",
    "#example = [\"ruchira\",\"bhavya\",\"shaurya\",\"prashant\",\"tiruchirapalli\"]\n",
    "\n",
    "# list comprehension\n",
    "#count = len([char for char in example if char in \"aeiouAEIOU\"])\n",
    "\n",
    "#print(\"Number of vowels: \", count)   \n",
    "    "
   ]
  },
  {
   "cell_type": "code",
   "execution_count": null,
   "id": "dca9d1fd-f269-4b56-98b7-713a2353467d",
   "metadata": {},
   "outputs": [],
   "source": [
    "#39. Develop a program that calculates the sum of the digits of numbers from 1 to 1000 using list comprehension\n"
   ]
  },
  {
   "cell_type": "code",
   "execution_count": null,
   "id": "2730a7f7-615d-4450-b147-998aa040684a",
   "metadata": {},
   "outputs": [],
   "source": [
    "res = []\n",
    "for ele in range(1,1001):\n",
    "    sum = 0\n",
    "    for digit in str(ele):\n",
    "        sum += int(digit)\n",
    "    res.append(sum)\n",
    "    print(res)\n",
    "#l1=[i for i in range(1,1001)]\n",
    "#sum1=[sum(i) for i in l1]\n",
    "#print(sum1)"
   ]
  },
  {
   "cell_type": "code",
   "execution_count": null,
   "id": "0b213132-a544-456c-a542-0cf99f31ba6c",
   "metadata": {},
   "outputs": [],
   "source": [
    "#40. Write a program that generates a list of prime palindromic numbers using list comprehension."
   ]
  }
 ],
 "metadata": {
  "kernelspec": {
   "display_name": "Python 3 (ipykernel)",
   "language": "python",
   "name": "python3"
  },
  "language_info": {
   "codemirror_mode": {
    "name": "ipython",
    "version": 3
   },
   "file_extension": ".py",
   "mimetype": "text/x-python",
   "name": "python",
   "nbconvert_exporter": "python",
   "pygments_lexer": "ipython3",
   "version": "3.10.8"
  }
 },
 "nbformat": 4,
 "nbformat_minor": 5
}
